{
 "cells": [
  {
   "cell_type": "code",
   "execution_count": 118,
   "metadata": {},
   "outputs": [],
   "source": [
    "from datetime import date\n",
    "from dataclasses import dataclass\n",
    "import math"
   ]
  },
  {
   "cell_type": "code",
   "execution_count": 119,
   "metadata": {},
   "outputs": [],
   "source": [
    "MIN_YEAR = 2023\n",
    "MAX_YEAR = 2033\n",
    "# -1 pefixes will be used in arrays as days and months are not zero-indexed.\n",
    "DAYS_IN_24_HR_MONTH         = [-1, 31, 28, 31, 30, 31, 30, 31, 31, 30, 31, 30, 31]\n",
    "DAYS_IN_24_HR_MONTH_LEAP_YR = [-1, 31, 29, 31, 30, 31, 30, 31, 31, 30, 31, 30, 31]\n",
    "# DAYS_IN_36_HR_MONTH         = [-1, 21, 19, 21, 20, 21, 20, 21, 21, 20, 21, 20, 21]\n",
    "# DAYS_IN_36_HR_MONTH_LEAP_YR = [-1, 21, 20, 21, 20, 21, 20, 21, 21, 20, 21, 20, 21]\n",
    "MONTH_ABRVS = [-1, \"JA\", \"FE\", \"MR\", \"AR\", \"MA\", \"JN\", \"JL\", \"AU\", \"SE\", \"OC\", \"NO\", \"dE\"]"
   ]
  },
  {
   "cell_type": "code",
   "execution_count": 120,
   "metadata": {},
   "outputs": [],
   "source": [
    "def is_leap_year(year):\n",
    "    if year % 4 == 0:\n",
    "        if year % 100 == 0:\n",
    "            if year % 400 == 0:\n",
    "                return True\n",
    "            else:\n",
    "                return False\n",
    "        else:\n",
    "            return True\n",
    "    else:\n",
    "        return False"
   ]
  },
  {
   "cell_type": "code",
   "execution_count": 121,
   "metadata": {},
   "outputs": [],
   "source": [
    "@dataclass\n",
    "class Month:\n",
    "    num_days: int\n",
    "    hours_in_days: list\n",
    "    month_abrv: str"
   ]
  },
  {
   "cell_type": "code",
   "execution_count": 131,
   "metadata": {},
   "outputs": [],
   "source": [
    "def get_conversion_definition(year, days_in_months, days_in_monts_leap_yr, conv_hrs_per_day):\n",
    "    hrs_in_24_hr_month = [-1]\n",
    "    days_in_24_hr_month = days_in_monts_leap_yr if is_leap_year(year) else days_in_months\n",
    "    for day in days_in_24_hr_month[1:]:\n",
    "        hrs_in_24_hr_month.append(day * 24)\n",
    "    \n",
    "    year_definition = [-1]\n",
    "    for month_hrs, month_abrv in zip(hrs_in_24_hr_month[1:], MONTH_ABRVS[1:]):\n",
    "        num_converted_days = math.floor(month_hrs / conv_hrs_per_day)\n",
    "        last_day_hrs = month_hrs % conv_hrs_per_day\n",
    "        hours_in_days = [conv_hrs_per_day for i in range(num_converted_days)]\n",
    "        if last_day_hrs != 0:\n",
    "            hours_in_days.append(last_day_hrs)\n",
    "\n",
    "        year_definition.append(\n",
    "            Month(num_days=len(hours_in_days),\n",
    "                  hours_in_days=[-1] + hours_in_days,\n",
    "                  month_abrv=month_abrv)\n",
    "        )\n",
    "        \n",
    "    return year_definition"
   ]
  },
  {
   "cell_type": "code",
   "execution_count": 132,
   "metadata": {},
   "outputs": [],
   "source": [
    "class Date24hrs:\n",
    "    def days_in_month(self, year, month):\n",
    "        # Return the days in the given month of the given year, accounting for leap years. \n",
    "        assert 1 <= month <= 12, month\n",
    "        if is_leap_year(year):\n",
    "            return DAYS_IN_24_HR_MONTH_LEAP_YR[month]\n",
    "        return DAYS_IN_24_HR_MONTH[month]\n",
    "    \n",
    "    def check_date(self, year, month, day, hour):\n",
    "        # Make sure the provided date is valid.\n",
    "        if not MIN_YEAR <= year <= MAX_YEAR:\n",
    "            raise ValueError(f'bad! {year=}')\n",
    "        if not 1 <= month <= 12:\n",
    "            raise ValueError(f'bad! {month=}')\n",
    "        if not 1 <= day <= self.days_in_month(year, month):\n",
    "            raise ValueError(f'bad! {year=} {month=} {day=}')\n",
    "        if not 0 <= hour <= 23:\n",
    "            raise ValueError(f'bad! {hour=}')\n",
    "    \n",
    "        return year, month, day, hour\n",
    "        \n",
    "    def __init__(self, year, month, day, hour):\n",
    "        self.year, self.month, self.day, self.hour = self.check_date(year, month, day, hour)\n",
    "        self.day_length = 24\n",
    "        self.month_abrv = MONTH_ABRVS[self.month]\n",
    "        \n",
    "    def to_36_hr_date(self) -> 'Date36hrs':\n",
    "        # Calculate the total number of hours that have passed from the beginning of the current\n",
    "        # month until the the current day.\n",
    "        hrs_elapsed_to_day = self.day * self.day_length\n",
    "        day_converted = math.floor(hrs_elapsed_to_day / 36)\n",
    "        # The last day of each 36hr month might not actually have 36hrs in it (a short day).\n",
    "        # Check if the day is a short day.\n",
    "        conversion = get_conversion_definition(self.year,\n",
    "                                               DAYS_IN_24_HR_MONTH,\n",
    "                                               DAYS_IN_24_HR_MONTH_LEAP_YR,\n",
    "                                               36)\n",
    "        short_day = (day_converted == conversion[self.month].num_days - 1) and \\\n",
    "                    (conversion[self.month].hours_in_days[-1] != 36)\n",
    "        if short_day:\n",
    "            day_converted += 1\n",
    "            \n",
    "        # Total number of hours from the beginning of the current month until the current\n",
    "        # _hour_ of the current day.\n",
    "        total_hrs_elapsed = (self.day * self.day_length) + self.hour\n",
    "        hour_converted = total_hrs_elapsed % conversion[self.month].hours_in_days[day_converted]\n",
    "        return Date36hrs(self.year, self.month, day_converted, hour_converted)"
   ]
  },
  {
   "cell_type": "code",
   "execution_count": 143,
   "metadata": {},
   "outputs": [],
   "source": [
    "class Date36hrs:\n",
    "    def __init__(self, year, month, day, hour):\n",
    "        self.year = year\n",
    "        self.month = month\n",
    "        self.day = day\n",
    "        self.hour = hour\n",
    "        self.month_abrv = MONTH_ABRVS[self.month]"
   ]
  },
  {
   "cell_type": "code",
   "execution_count": 144,
   "metadata": {},
   "outputs": [
    {
     "name": "stdout",
     "output_type": "stream",
     "text": [
      "epoch.year=2023, epoch.month=4 (AR), epoch.day=6, epoch.hour=1\n"
     ]
    }
   ],
   "source": [
    "epoch = Date24hrs(2023, 4, 9, 1).to_36_hr_date()\n",
    "print(f'{epoch.year=}, {epoch.month=} ({epoch.month_abrv}), {epoch.day=}, {epoch.hour=}')"
   ]
  },
  {
   "cell_type": "code",
   "execution_count": 145,
   "metadata": {},
   "outputs": [
    {
     "name": "stdout",
     "output_type": "stream",
     "text": [
      "epoch.year=2023, epoch.month=4 (AR), epoch.day=19, epoch.hour=24\n"
     ]
    }
   ],
   "source": [
    "epoch = Date24hrs(2023, 4, 29, 12).to_36_hr_date()\n",
    "print(f'{epoch.year=}, {epoch.month=} ({epoch.month_abrv}), {epoch.day=}, {epoch.hour=}')"
   ]
  },
  {
   "cell_type": "code",
   "execution_count": 146,
   "metadata": {},
   "outputs": [
    {
     "name": "stdout",
     "output_type": "stream",
     "text": [
      "epoch.year=2024, epoch.month=2 (FE), epoch.day=20, epoch.hour=11\n"
     ]
    }
   ],
   "source": [
    "epoch = Date24hrs(2024, 2, 29, 23).to_36_hr_date()\n",
    "print(f'{epoch.year=}, {epoch.month=} ({epoch.month_abrv}), {epoch.day=}, {epoch.hour=}')"
   ]
  },
  {
   "cell_type": "code",
   "execution_count": 147,
   "metadata": {},
   "outputs": [
    {
     "name": "stdout",
     "output_type": "stream",
     "text": [
      "epoch.year=2024, epoch.month=2 (FE), epoch.day=20, epoch.hour=11\n"
     ]
    }
   ],
   "source": [
    "epoch = Date24hrs(2024, 2, 29, 23).to_36_hr_date()\n",
    "print(f'{epoch.year=}, {epoch.month=} ({epoch.month_abrv}), {epoch.day=}, {epoch.hour=}')"
   ]
  },
  {
   "cell_type": "code",
   "execution_count": 148,
   "metadata": {},
   "outputs": [
    {
     "name": "stdout",
     "output_type": "stream",
     "text": [
      "epoch.year=2023, epoch.month=2 (FE), epoch.day=19, epoch.hour=23\n"
     ]
    }
   ],
   "source": [
    "epoch = Date24hrs(2023, 2, 28, 23).to_36_hr_date()\n",
    "print(f'{epoch.year=}, {epoch.month=} ({epoch.month_abrv}), {epoch.day=}, {epoch.hour=}')"
   ]
  },
  {
   "cell_type": "code",
   "execution_count": 149,
   "metadata": {},
   "outputs": [
    {
     "name": "stdout",
     "output_type": "stream",
     "text": [
      "epoch.year=2023, epoch.month=2 (FE), epoch.day=19, epoch.hour=12\n"
     ]
    }
   ],
   "source": [
    "epoch = Date24hrs(2023, 2, 28, 12).to_36_hr_date()\n",
    "print(f'{epoch.year=}, {epoch.month=} ({epoch.month_abrv}), {epoch.day=}, {epoch.hour=}')"
   ]
  }
 ],
 "metadata": {
  "kernelspec": {
   "display_name": "Python 3",
   "language": "python",
   "name": "python3"
  },
  "language_info": {
   "codemirror_mode": {
    "name": "ipython",
    "version": 3
   },
   "file_extension": ".py",
   "mimetype": "text/x-python",
   "name": "python",
   "nbconvert_exporter": "python",
   "pygments_lexer": "ipython3",
   "version": "3.8.10"
  }
 },
 "nbformat": 4,
 "nbformat_minor": 4
}
